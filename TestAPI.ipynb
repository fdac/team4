{
 "metadata": {
  "name": "",
  "signature": "sha256:82f5a85d22f84e9db3298003014f9ac08828e18548028a4c2cfe7f2d1c912453"
 },
 "nbformat": 3,
 "nbformat_minor": 0,
 "worksheets": [
  {
   "cells": [
    {
     "cell_type": "code",
     "collapsed": false,
     "input": [
      "import requests, json, sys, time, re, BeautifulSoup, pickle\n",
      "\n",
      "class repo:\n",
      "    name = \"\"\n",
      "    owner = \"\"\n",
      "    language = \"\"\n",
      "    size = \"\"\n",
      "    updated = \"\"\n",
      "    created = \"\"\n",
      "    repoType = \"\"\n",
      "\n",
      "URL = 'https://api.bitbucket.org/2.0/repositories'\n",
      "r = requests.get(URL)\n",
      "t = r.text\n",
      "json_obj = json.loads(t)\n",
      "#pprint(json_obj)\n",
      "firstFlag = 1\n",
      "print json_obj['pagelen']\n",
      "numresults = json_obj['pagelen']\n",
      "for res in range(0, numresults):\n",
      "    test = repo()\n",
      "    test.name = json_obj['values'][res]['name']\n",
      "    test.owner = json_obj['values'][res]['owner']['username']\n",
      "    test.language = json_obj['values'][res]['language']\n",
      "    test.size = json_obj['values'][res]['size']\n",
      "    test.updated = json_obj['values'][res]['updated_on']\n",
      "    test.created = json_obj['values'][res]['created_on']\n",
      "    test.repoType = json_obj['values'][res]['scm']\n",
      "    if(firstFlag == 1):\n",
      "        repoList = [test]\n",
      "    else:\n",
      "        repoList.append(test)\n",
      "    print json_obj['values'][res]['name'], 'by', json_obj['values'][res]['owner']['username']\n",
      "nextURL = json_obj['next']\n",
      "r = requests.get(nextURL)\n",
      "t = r.text\n",
      "json_obj2 = json.loads(t)\n",
      "numresults = json_obj['pagelen']\n",
      "for res in range(0, numresults):\n",
      "    print json_obj['values'][res]['name'], 'by', json_obj['values'][res]['owner']['username']"
     ],
     "language": "python",
     "metadata": {},
     "outputs": [
      {
       "output_type": "stream",
       "stream": "stdout",
       "text": [
        "10\n",
        "tweakmsg by phlogistonjohn\n",
        "new by ape_hand\n",
        "stellaris by mikael\n",
        "libdodo by Niam\n",
        "cx by jespern\n",
        "fhtmlmps by vetler\n",
        "ovsga by rom1\n",
        "FreeBSD by z19\n",
        "mercurial-crew by mirror\n",
        "Squash by DeadWisdom\n",
        "tweakmsg"
       ]
      },
      {
       "output_type": "stream",
       "stream": "stdout",
       "text": [
        " by phlogistonjohn\n",
        "new by ape_hand\n",
        "stellaris by mikael\n",
        "libdodo by Niam\n",
        "cx by jespern\n",
        "fhtmlmps by vetler\n",
        "ovsga by rom1\n",
        "FreeBSD by z19\n",
        "mercurial-crew by mirror\n",
        "Squash by DeadWisdom\n"
       ]
      }
     ],
     "prompt_number": 2
    },
    {
     "cell_type": "code",
     "collapsed": false,
     "input": [],
     "language": "python",
     "metadata": {},
     "outputs": []
    }
   ],
   "metadata": {}
  }
 ]
}