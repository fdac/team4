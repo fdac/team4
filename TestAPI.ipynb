{
 "metadata": {
  "name": "",
  "signature": "sha256:dae4e47589b48a164aad72c543ad1388199a6916e09be3bc3cf2722da5964c84"
 },
 "nbformat": 3,
 "nbformat_minor": 0,
 "worksheets": [
  {
   "cells": [
    {
     "cell_type": "code",
     "collapsed": false,
     "input": [
      "import requests, json, sys, time, re, BeautifulSoup, pickle\n",
      "URL = 'https://api.bitbucket.org/2.0/repositories'\n",
      "r = requests.get(URL)\n",
      "t = r.text\n",
      "json_obj = json.loads(t)\n",
      "#pprint(json_obj)\n",
      "print json_obj['pagelen']\n",
      "numresults = json_obj['pagelen']\n",
      "for res in range(0, numresults):\n",
      "    print json_obj['values'][res]['name'], 'by', json_obj['values'][res]['owner']['username']\n",
      "nextURL = json_obj['next']\n",
      "r = requests.get(nextURL)\n",
      "t = r.text\n",
      "json_obj2 = json.loads(t)\n",
      "numresults = json_obj['pagelen']\n",
      "for res in range(0, numresults):\n",
      "    print json_obj['values'][res]['name'], 'by', json_obj['values'][res]['owner']['username']"
     ],
     "language": "python",
     "metadata": {},
     "outputs": [
      {
       "output_type": "stream",
       "stream": "stdout",
       "text": [
        "10\n",
        "tweakmsg by phlogistonjohn\n",
        "new by ape_hand\n",
        "stellaris by mikael\n",
        "libdodo by Niam\n",
        "cx by jespern\n",
        "fhtmlmps by vetler\n",
        "ovsga by rom1\n",
        "FreeBSD by z19\n",
        "mercurial-crew by mirror\n",
        "Squash by DeadWisdom\n",
        "tweakmsg"
       ]
      },
      {
       "output_type": "stream",
       "stream": "stdout",
       "text": [
        " by phlogistonjohn\n",
        "new by ape_hand\n",
        "stellaris by mikael\n",
        "libdodo by Niam\n",
        "cx by jespern\n",
        "fhtmlmps by vetler\n",
        "ovsga by rom1\n",
        "FreeBSD by z19\n",
        "mercurial-crew by mirror\n",
        "Squash by DeadWisdom\n"
       ]
      }
     ],
     "prompt_number": 40
    },
    {
     "cell_type": "code",
     "collapsed": false,
     "input": [],
     "language": "python",
     "metadata": {},
     "outputs": []
    }
   ],
   "metadata": {}
  }
 ]
}